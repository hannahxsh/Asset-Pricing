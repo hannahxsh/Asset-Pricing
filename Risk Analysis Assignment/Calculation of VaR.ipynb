{
 "cells": [
  {
   "cell_type": "markdown",
   "id": "9c74e71f",
   "metadata": {},
   "source": [
    "# Risk Analysis Assignment 1\n",
    "\n",
    "* There exist five assest in the portfolio, which is a `payer swap`, and four stocks `(AAPL, MSFT, F and BAC)`\n",
    "* Investors have 1 million dollars for each stock, and the information of the payer swap is listed below:\n",
    "|           | Payer Swap  |\n",
    "|-----------|-------------|\n",
    "| Notional  | 100 million |\n",
    "| Maturity  | 10 years    |\n",
    "| Strike    | 4.2%   |\n",
    "| Payment Frequency    | Annual   |\n",
    "\n",
    "* Through the historical data over a period from 31/10/2022 to 30/10/2024, the goal of the project is calculate the 1-day 95% VaR of the portfolio using three different models."
   ]
  },
  {
   "cell_type": "markdown",
   "id": "edefd9c4",
   "metadata": {},
   "source": [
    "### Import packages"
   ]
  },
  {
   "cell_type": "code",
   "execution_count": 1,
   "id": "94935269",
   "metadata": {},
   "outputs": [],
   "source": [
    "import pandas as pd\n",
    "import numpy as np\n",
    "from scipy.stats import norm"
   ]
  },
  {
   "cell_type": "code",
   "execution_count": 2,
   "id": "8112bfe8",
   "metadata": {},
   "outputs": [],
   "source": [
    "import matplotlib.pyplot as plt\n",
    "import matplotlib as mpl\n",
    "np.set_printoptions(precision = 3)\n",
    "\n",
    "plt.style.use(\"ggplot\")\n",
    "\n",
    "mpl.rcParams[\"axes.grid\"] = True\n",
    "mpl.rcParams[\"grid.color\"] = \"grey\"\n",
    "mpl.rcParams[\"grid.alpha\"] = 0.25\n",
    "\n",
    "mpl.rcParams[\"axes.facecolor\"] = \"white\"\n",
    "\n",
    "mpl.rcParams[\"legend.fontsize\"] = 8"
   ]
  },
  {
   "cell_type": "markdown",
   "id": "b239f292",
   "metadata": {},
   "source": [
    " # <a id = \"top\">Contents</a>"
   ]
  },
  {
   "cell_type": "markdown",
   "id": "88a68eda",
   "metadata": {},
   "source": [
    "## [1. Data Analysis](#p1)\n",
    "## [2. Parametric VaR Model](#p2)\n",
    "## [3. Monte Carlo VaR Model](#p3)\n",
    "## [4. Historical VaR Model](#p4)\n",
    "## [5. Conclusion](#p5)"
   ]
  },
  {
   "cell_type": "markdown",
   "id": "310dd3af",
   "metadata": {},
   "source": [
    "##  <a id = \"p1\"> 1.<font color = \"blue\">Data Analysis [(back to contents)](#top)"
   ]
  },
  {
   "cell_type": "code",
   "execution_count": 3,
   "id": "4b380a42",
   "metadata": {},
   "outputs": [],
   "source": [
    "RF_sofr = pd.read_excel(\"hist_data.xlsm\", sheet_name = \"SofrCurve\")\n",
    "RF_AAPL = pd.read_excel(\"hist_data.xlsm\", sheet_name = \"AAPL\")\n",
    "RF_MSFT = pd.read_excel(\"hist_data.xlsm\", sheet_name = \"MSFT\")\n",
    "RF_F = pd.read_excel(\"hist_data.xlsm\", sheet_name = \"F\")\n",
    "RF_BAC = pd.read_excel(\"hist_data.xlsm\", sheet_name = \"BAC\")"
   ]
  },
  {
   "cell_type": "markdown",
   "id": "c38a6eb3",
   "metadata": {},
   "source": [
    "> Stock data\\\n",
    "Using relative change\n"
   ]
  },
  {
   "cell_type": "code",
   "execution_count": 4,
   "id": "80f9f2df",
   "metadata": {},
   "outputs": [],
   "source": [
    "Stock_Change = pd.DataFrame()\n",
    "Stock_Change[\"AAPL\"] = RF_AAPL[\"Adj Close\"].pct_change()\n",
    "Stock_Change[\"MSFT\"] = RF_MSFT[\"Adj Close\"].pct_change()\n",
    "Stock_Change[\"F\"] = RF_F[\"Adj Close\"].pct_change()\n",
    "Stock_Change[\"BAC\"] = RF_BAC[\"Adj Close\"].pct_change()\n",
    "Stock_Change.index = RF_AAPL[\"Date\"]\n",
    "Stock_Change = Stock_Change.dropna()"
   ]
  },
  {
   "cell_type": "code",
   "execution_count": 5,
   "id": "48ab46d7",
   "metadata": {
    "scrolled": true
   },
   "outputs": [
    {
     "data": {
      "text/html": [
       "<div>\n",
       "<style scoped>\n",
       "    .dataframe tbody tr th:only-of-type {\n",
       "        vertical-align: middle;\n",
       "    }\n",
       "\n",
       "    .dataframe tbody tr th {\n",
       "        vertical-align: top;\n",
       "    }\n",
       "\n",
       "    .dataframe thead th {\n",
       "        text-align: right;\n",
       "    }\n",
       "</style>\n",
       "<table border=\"1\" class=\"dataframe\">\n",
       "  <thead>\n",
       "    <tr style=\"text-align: right;\">\n",
       "      <th></th>\n",
       "      <th>AAPL</th>\n",
       "      <th>MSFT</th>\n",
       "      <th>F</th>\n",
       "      <th>BAC</th>\n",
       "    </tr>\n",
       "    <tr>\n",
       "      <th>Date</th>\n",
       "      <th></th>\n",
       "      <th></th>\n",
       "      <th></th>\n",
       "      <th></th>\n",
       "    </tr>\n",
       "  </thead>\n",
       "  <tbody>\n",
       "    <tr>\n",
       "      <th>2022-11-01</th>\n",
       "      <td>-0.017543</td>\n",
       "      <td>-0.017059</td>\n",
       "      <td>0.002244</td>\n",
       "      <td>0.004439</td>\n",
       "    </tr>\n",
       "    <tr>\n",
       "      <th>2022-11-02</th>\n",
       "      <td>-0.037305</td>\n",
       "      <td>-0.035368</td>\n",
       "      <td>-0.025373</td>\n",
       "      <td>-0.003039</td>\n",
       "    </tr>\n",
       "    <tr>\n",
       "      <th>2022-11-03</th>\n",
       "      <td>-0.042405</td>\n",
       "      <td>-0.026579</td>\n",
       "      <td>0.015314</td>\n",
       "      <td>-0.005542</td>\n",
       "    </tr>\n",
       "    <tr>\n",
       "      <th>2022-11-04</th>\n",
       "      <td>-0.001947</td>\n",
       "      <td>0.033326</td>\n",
       "      <td>0.018854</td>\n",
       "      <td>0.025077</td>\n",
       "    </tr>\n",
       "    <tr>\n",
       "      <th>2022-11-07</th>\n",
       "      <td>0.003902</td>\n",
       "      <td>0.029270</td>\n",
       "      <td>0.014064</td>\n",
       "      <td>0.005980</td>\n",
       "    </tr>\n",
       "  </tbody>\n",
       "</table>\n",
       "</div>"
      ],
      "text/plain": [
       "                AAPL      MSFT         F       BAC\n",
       "Date                                              \n",
       "2022-11-01 -0.017543 -0.017059  0.002244  0.004439\n",
       "2022-11-02 -0.037305 -0.035368 -0.025373 -0.003039\n",
       "2022-11-03 -0.042405 -0.026579  0.015314 -0.005542\n",
       "2022-11-04 -0.001947  0.033326  0.018854  0.025077\n",
       "2022-11-07  0.003902  0.029270  0.014064  0.005980"
      ]
     },
     "execution_count": 5,
     "metadata": {},
     "output_type": "execute_result"
    }
   ],
   "source": [
    "Stock_Change.head()"
   ]
  },
  {
   "cell_type": "markdown",
   "id": "def58476",
   "metadata": {},
   "source": [
    "> SOFR curve\\\n",
    "Using absolute change"
   ]
  },
  {
   "cell_type": "code",
   "execution_count": 6,
   "id": "b4631b6e",
   "metadata": {},
   "outputs": [
    {
     "data": {
      "text/html": [
       "<div>\n",
       "<style scoped>\n",
       "    .dataframe tbody tr th:only-of-type {\n",
       "        vertical-align: middle;\n",
       "    }\n",
       "\n",
       "    .dataframe tbody tr th {\n",
       "        vertical-align: top;\n",
       "    }\n",
       "\n",
       "    .dataframe thead th {\n",
       "        text-align: right;\n",
       "    }\n",
       "</style>\n",
       "<table border=\"1\" class=\"dataframe\">\n",
       "  <thead>\n",
       "    <tr style=\"text-align: right;\">\n",
       "      <th>Tenor</th>\n",
       "      <th>1D</th>\n",
       "      <th>1M</th>\n",
       "      <th>2M</th>\n",
       "      <th>3M</th>\n",
       "      <th>6M</th>\n",
       "      <th>9M</th>\n",
       "      <th>1Y</th>\n",
       "      <th>2Y</th>\n",
       "      <th>3Y</th>\n",
       "      <th>4Y</th>\n",
       "      <th>...</th>\n",
       "      <th>15Y</th>\n",
       "      <th>16Y</th>\n",
       "      <th>17Y</th>\n",
       "      <th>18Y</th>\n",
       "      <th>19Y</th>\n",
       "      <th>20Y</th>\n",
       "      <th>25Y</th>\n",
       "      <th>30Y</th>\n",
       "      <th>35Y</th>\n",
       "      <th>40Y</th>\n",
       "    </tr>\n",
       "  </thead>\n",
       "  <tbody>\n",
       "    <tr>\n",
       "      <th>2022-10-31 00:00:00</th>\n",
       "      <td>0.039191</td>\n",
       "      <td>0.038721</td>\n",
       "      <td>0.038670</td>\n",
       "      <td>0.040536</td>\n",
       "      <td>0.044577</td>\n",
       "      <td>0.046004</td>\n",
       "      <td>0.046449</td>\n",
       "      <td>0.044583</td>\n",
       "      <td>0.042002</td>\n",
       "      <td>0.040318</td>\n",
       "      <td>...</td>\n",
       "      <td>0.037151</td>\n",
       "      <td>0.037057</td>\n",
       "      <td>0.036907</td>\n",
       "      <td>0.036698</td>\n",
       "      <td>0.036433</td>\n",
       "      <td>0.036111</td>\n",
       "      <td>0.034091</td>\n",
       "      <td>0.032350</td>\n",
       "      <td>0.030552</td>\n",
       "      <td>0.028708</td>\n",
       "    </tr>\n",
       "    <tr>\n",
       "      <th>2022-11-01 00:00:00</th>\n",
       "      <td>0.039604</td>\n",
       "      <td>0.039023</td>\n",
       "      <td>0.038886</td>\n",
       "      <td>0.040725</td>\n",
       "      <td>0.044849</td>\n",
       "      <td>0.046448</td>\n",
       "      <td>0.046970</td>\n",
       "      <td>0.045022</td>\n",
       "      <td>0.042344</td>\n",
       "      <td>0.040614</td>\n",
       "      <td>...</td>\n",
       "      <td>0.036802</td>\n",
       "      <td>0.036682</td>\n",
       "      <td>0.036511</td>\n",
       "      <td>0.036287</td>\n",
       "      <td>0.036010</td>\n",
       "      <td>0.035678</td>\n",
       "      <td>0.033645</td>\n",
       "      <td>0.031979</td>\n",
       "      <td>0.030238</td>\n",
       "      <td>0.028478</td>\n",
       "    </tr>\n",
       "    <tr>\n",
       "      <th>2022-11-02 00:00:00</th>\n",
       "      <td>0.039948</td>\n",
       "      <td>0.039286</td>\n",
       "      <td>0.039100</td>\n",
       "      <td>0.040852</td>\n",
       "      <td>0.044884</td>\n",
       "      <td>0.046580</td>\n",
       "      <td>0.047203</td>\n",
       "      <td>0.045496</td>\n",
       "      <td>0.042749</td>\n",
       "      <td>0.040868</td>\n",
       "      <td>...</td>\n",
       "      <td>0.036855</td>\n",
       "      <td>0.036701</td>\n",
       "      <td>0.036498</td>\n",
       "      <td>0.036248</td>\n",
       "      <td>0.035953</td>\n",
       "      <td>0.035613</td>\n",
       "      <td>0.033627</td>\n",
       "      <td>0.031936</td>\n",
       "      <td>0.030292</td>\n",
       "      <td>0.028608</td>\n",
       "    </tr>\n",
       "    <tr>\n",
       "      <th>2022-11-03 00:00:00</th>\n",
       "      <td>0.040389</td>\n",
       "      <td>0.039585</td>\n",
       "      <td>0.039350</td>\n",
       "      <td>0.041154</td>\n",
       "      <td>0.045281</td>\n",
       "      <td>0.047107</td>\n",
       "      <td>0.047894</td>\n",
       "      <td>0.046594</td>\n",
       "      <td>0.043833</td>\n",
       "      <td>0.041825</td>\n",
       "      <td>...</td>\n",
       "      <td>0.037221</td>\n",
       "      <td>0.037069</td>\n",
       "      <td>0.036886</td>\n",
       "      <td>0.036657</td>\n",
       "      <td>0.036372</td>\n",
       "      <td>0.036022</td>\n",
       "      <td>0.033811</td>\n",
       "      <td>0.032134</td>\n",
       "      <td>0.030407</td>\n",
       "      <td>0.028655</td>\n",
       "    </tr>\n",
       "    <tr>\n",
       "      <th>2022-11-04 00:00:00</th>\n",
       "      <td>0.045965</td>\n",
       "      <td>0.042343</td>\n",
       "      <td>0.038795</td>\n",
       "      <td>0.040611</td>\n",
       "      <td>0.045212</td>\n",
       "      <td>0.046752</td>\n",
       "      <td>0.047500</td>\n",
       "      <td>0.046097</td>\n",
       "      <td>0.043385</td>\n",
       "      <td>0.041503</td>\n",
       "      <td>...</td>\n",
       "      <td>0.037687</td>\n",
       "      <td>0.037557</td>\n",
       "      <td>0.037380</td>\n",
       "      <td>0.037152</td>\n",
       "      <td>0.036870</td>\n",
       "      <td>0.036534</td>\n",
       "      <td>0.034424</td>\n",
       "      <td>0.032558</td>\n",
       "      <td>0.030723</td>\n",
       "      <td>0.028933</td>\n",
       "    </tr>\n",
       "  </tbody>\n",
       "</table>\n",
       "<p>5 rows × 30 columns</p>\n",
       "</div>"
      ],
      "text/plain": [
       "Tenor                      1D        1M        2M        3M        6M  \\\n",
       "2022-10-31 00:00:00  0.039191  0.038721  0.038670  0.040536  0.044577   \n",
       "2022-11-01 00:00:00  0.039604  0.039023  0.038886  0.040725  0.044849   \n",
       "2022-11-02 00:00:00  0.039948  0.039286  0.039100  0.040852  0.044884   \n",
       "2022-11-03 00:00:00  0.040389  0.039585  0.039350  0.041154  0.045281   \n",
       "2022-11-04 00:00:00  0.045965  0.042343  0.038795  0.040611  0.045212   \n",
       "\n",
       "Tenor                      9M        1Y        2Y        3Y        4Y  ...  \\\n",
       "2022-10-31 00:00:00  0.046004  0.046449  0.044583  0.042002  0.040318  ...   \n",
       "2022-11-01 00:00:00  0.046448  0.046970  0.045022  0.042344  0.040614  ...   \n",
       "2022-11-02 00:00:00  0.046580  0.047203  0.045496  0.042749  0.040868  ...   \n",
       "2022-11-03 00:00:00  0.047107  0.047894  0.046594  0.043833  0.041825  ...   \n",
       "2022-11-04 00:00:00  0.046752  0.047500  0.046097  0.043385  0.041503  ...   \n",
       "\n",
       "Tenor                     15Y       16Y       17Y       18Y       19Y  \\\n",
       "2022-10-31 00:00:00  0.037151  0.037057  0.036907  0.036698  0.036433   \n",
       "2022-11-01 00:00:00  0.036802  0.036682  0.036511  0.036287  0.036010   \n",
       "2022-11-02 00:00:00  0.036855  0.036701  0.036498  0.036248  0.035953   \n",
       "2022-11-03 00:00:00  0.037221  0.037069  0.036886  0.036657  0.036372   \n",
       "2022-11-04 00:00:00  0.037687  0.037557  0.037380  0.037152  0.036870   \n",
       "\n",
       "Tenor                     20Y       25Y       30Y       35Y       40Y  \n",
       "2022-10-31 00:00:00  0.036111  0.034091  0.032350  0.030552  0.028708  \n",
       "2022-11-01 00:00:00  0.035678  0.033645  0.031979  0.030238  0.028478  \n",
       "2022-11-02 00:00:00  0.035613  0.033627  0.031936  0.030292  0.028608  \n",
       "2022-11-03 00:00:00  0.036022  0.033811  0.032134  0.030407  0.028655  \n",
       "2022-11-04 00:00:00  0.036534  0.034424  0.032558  0.030723  0.028933  \n",
       "\n",
       "[5 rows x 30 columns]"
      ]
     },
     "execution_count": 6,
     "metadata": {},
     "output_type": "execute_result"
    }
   ],
   "source": [
    "RF_sofr_new = RF_sofr.drop([\"T\",\"Tenor\"],axis = 1).T\n",
    "RF_sofr_new.columns = RF_sofr[\"Tenor\"]\n",
    "RF_sofr_new.head()"
   ]
  },
  {
   "cell_type": "code",
   "execution_count": 7,
   "id": "53391f09",
   "metadata": {},
   "outputs": [
    {
     "data": {
      "text/html": [
       "<div>\n",
       "<style scoped>\n",
       "    .dataframe tbody tr th:only-of-type {\n",
       "        vertical-align: middle;\n",
       "    }\n",
       "\n",
       "    .dataframe tbody tr th {\n",
       "        vertical-align: top;\n",
       "    }\n",
       "\n",
       "    .dataframe thead th {\n",
       "        text-align: right;\n",
       "    }\n",
       "</style>\n",
       "<table border=\"1\" class=\"dataframe\">\n",
       "  <thead>\n",
       "    <tr style=\"text-align: right;\">\n",
       "      <th></th>\n",
       "      <th>1D</th>\n",
       "      <th>1M</th>\n",
       "      <th>2M</th>\n",
       "      <th>3M</th>\n",
       "      <th>6M</th>\n",
       "      <th>9M</th>\n",
       "      <th>1Y</th>\n",
       "      <th>2Y</th>\n",
       "      <th>3Y</th>\n",
       "      <th>4Y</th>\n",
       "      <th>...</th>\n",
       "      <th>15Y</th>\n",
       "      <th>16Y</th>\n",
       "      <th>17Y</th>\n",
       "      <th>18Y</th>\n",
       "      <th>19Y</th>\n",
       "      <th>20Y</th>\n",
       "      <th>25Y</th>\n",
       "      <th>30Y</th>\n",
       "      <th>35Y</th>\n",
       "      <th>40Y</th>\n",
       "    </tr>\n",
       "  </thead>\n",
       "  <tbody>\n",
       "    <tr>\n",
       "      <th>2022-11-01 00:00:00</th>\n",
       "      <td>0.000413</td>\n",
       "      <td>0.000302</td>\n",
       "      <td>0.000216</td>\n",
       "      <td>0.000188</td>\n",
       "      <td>0.000272</td>\n",
       "      <td>0.000444</td>\n",
       "      <td>0.000521</td>\n",
       "      <td>0.000439</td>\n",
       "      <td>0.000342</td>\n",
       "      <td>0.000296</td>\n",
       "      <td>...</td>\n",
       "      <td>-0.000349</td>\n",
       "      <td>-0.000375</td>\n",
       "      <td>-0.000395</td>\n",
       "      <td>-0.000411</td>\n",
       "      <td>-0.000423</td>\n",
       "      <td>-0.000434</td>\n",
       "      <td>-0.000446</td>\n",
       "      <td>-0.000372</td>\n",
       "      <td>-0.000314</td>\n",
       "      <td>-0.000230</td>\n",
       "    </tr>\n",
       "    <tr>\n",
       "      <th>2022-11-02 00:00:00</th>\n",
       "      <td>0.000344</td>\n",
       "      <td>0.000262</td>\n",
       "      <td>0.000214</td>\n",
       "      <td>0.000128</td>\n",
       "      <td>0.000035</td>\n",
       "      <td>0.000132</td>\n",
       "      <td>0.000234</td>\n",
       "      <td>0.000474</td>\n",
       "      <td>0.000404</td>\n",
       "      <td>0.000254</td>\n",
       "      <td>...</td>\n",
       "      <td>0.000053</td>\n",
       "      <td>0.000019</td>\n",
       "      <td>-0.000013</td>\n",
       "      <td>-0.000040</td>\n",
       "      <td>-0.000058</td>\n",
       "      <td>-0.000064</td>\n",
       "      <td>-0.000018</td>\n",
       "      <td>-0.000043</td>\n",
       "      <td>0.000054</td>\n",
       "      <td>0.000130</td>\n",
       "    </tr>\n",
       "    <tr>\n",
       "      <th>2022-11-03 00:00:00</th>\n",
       "      <td>0.000440</td>\n",
       "      <td>0.000299</td>\n",
       "      <td>0.000250</td>\n",
       "      <td>0.000302</td>\n",
       "      <td>0.000397</td>\n",
       "      <td>0.000527</td>\n",
       "      <td>0.000690</td>\n",
       "      <td>0.001098</td>\n",
       "      <td>0.001085</td>\n",
       "      <td>0.000957</td>\n",
       "      <td>...</td>\n",
       "      <td>0.000366</td>\n",
       "      <td>0.000368</td>\n",
       "      <td>0.000388</td>\n",
       "      <td>0.000409</td>\n",
       "      <td>0.000420</td>\n",
       "      <td>0.000409</td>\n",
       "      <td>0.000184</td>\n",
       "      <td>0.000198</td>\n",
       "      <td>0.000115</td>\n",
       "      <td>0.000047</td>\n",
       "    </tr>\n",
       "    <tr>\n",
       "      <th>2022-11-04 00:00:00</th>\n",
       "      <td>0.005576</td>\n",
       "      <td>0.002758</td>\n",
       "      <td>-0.000555</td>\n",
       "      <td>-0.000543</td>\n",
       "      <td>-0.000069</td>\n",
       "      <td>-0.000355</td>\n",
       "      <td>-0.000394</td>\n",
       "      <td>-0.000497</td>\n",
       "      <td>-0.000448</td>\n",
       "      <td>-0.000322</td>\n",
       "      <td>...</td>\n",
       "      <td>0.000466</td>\n",
       "      <td>0.000488</td>\n",
       "      <td>0.000494</td>\n",
       "      <td>0.000495</td>\n",
       "      <td>0.000498</td>\n",
       "      <td>0.000512</td>\n",
       "      <td>0.000613</td>\n",
       "      <td>0.000424</td>\n",
       "      <td>0.000315</td>\n",
       "      <td>0.000278</td>\n",
       "    </tr>\n",
       "    <tr>\n",
       "      <th>2022-11-07 00:00:00</th>\n",
       "      <td>-0.005741</td>\n",
       "      <td>-0.003085</td>\n",
       "      <td>0.000665</td>\n",
       "      <td>0.000813</td>\n",
       "      <td>0.000243</td>\n",
       "      <td>0.000437</td>\n",
       "      <td>0.000429</td>\n",
       "      <td>0.000536</td>\n",
       "      <td>0.000499</td>\n",
       "      <td>0.000413</td>\n",
       "      <td>...</td>\n",
       "      <td>0.000431</td>\n",
       "      <td>0.000463</td>\n",
       "      <td>0.000487</td>\n",
       "      <td>0.000504</td>\n",
       "      <td>0.000512</td>\n",
       "      <td>0.000514</td>\n",
       "      <td>0.000498</td>\n",
       "      <td>0.000577</td>\n",
       "      <td>0.000577</td>\n",
       "      <td>0.000562</td>\n",
       "    </tr>\n",
       "  </tbody>\n",
       "</table>\n",
       "<p>5 rows × 30 columns</p>\n",
       "</div>"
      ],
      "text/plain": [
       "                           1D        1M        2M        3M        6M  \\\n",
       "2022-11-01 00:00:00  0.000413  0.000302  0.000216  0.000188  0.000272   \n",
       "2022-11-02 00:00:00  0.000344  0.000262  0.000214  0.000128  0.000035   \n",
       "2022-11-03 00:00:00  0.000440  0.000299  0.000250  0.000302  0.000397   \n",
       "2022-11-04 00:00:00  0.005576  0.002758 -0.000555 -0.000543 -0.000069   \n",
       "2022-11-07 00:00:00 -0.005741 -0.003085  0.000665  0.000813  0.000243   \n",
       "\n",
       "                           9M        1Y        2Y        3Y        4Y  ...  \\\n",
       "2022-11-01 00:00:00  0.000444  0.000521  0.000439  0.000342  0.000296  ...   \n",
       "2022-11-02 00:00:00  0.000132  0.000234  0.000474  0.000404  0.000254  ...   \n",
       "2022-11-03 00:00:00  0.000527  0.000690  0.001098  0.001085  0.000957  ...   \n",
       "2022-11-04 00:00:00 -0.000355 -0.000394 -0.000497 -0.000448 -0.000322  ...   \n",
       "2022-11-07 00:00:00  0.000437  0.000429  0.000536  0.000499  0.000413  ...   \n",
       "\n",
       "                          15Y       16Y       17Y       18Y       19Y  \\\n",
       "2022-11-01 00:00:00 -0.000349 -0.000375 -0.000395 -0.000411 -0.000423   \n",
       "2022-11-02 00:00:00  0.000053  0.000019 -0.000013 -0.000040 -0.000058   \n",
       "2022-11-03 00:00:00  0.000366  0.000368  0.000388  0.000409  0.000420   \n",
       "2022-11-04 00:00:00  0.000466  0.000488  0.000494  0.000495  0.000498   \n",
       "2022-11-07 00:00:00  0.000431  0.000463  0.000487  0.000504  0.000512   \n",
       "\n",
       "                          20Y       25Y       30Y       35Y       40Y  \n",
       "2022-11-01 00:00:00 -0.000434 -0.000446 -0.000372 -0.000314 -0.000230  \n",
       "2022-11-02 00:00:00 -0.000064 -0.000018 -0.000043  0.000054  0.000130  \n",
       "2022-11-03 00:00:00  0.000409  0.000184  0.000198  0.000115  0.000047  \n",
       "2022-11-04 00:00:00  0.000512  0.000613  0.000424  0.000315  0.000278  \n",
       "2022-11-07 00:00:00  0.000514  0.000498  0.000577  0.000577  0.000562  \n",
       "\n",
       "[5 rows x 30 columns]"
      ]
     },
     "execution_count": 7,
     "metadata": {},
     "output_type": "execute_result"
    }
   ],
   "source": [
    "SOFR_change = pd.DataFrame()\n",
    "for i in RF_sofr_new.columns:\n",
    "    change = RF_sofr_new[i].diff()\n",
    "    SOFR_change = pd.concat([SOFR_change, change],axis = 1)\n",
    "SOFR_change = SOFR_change.dropna()\n",
    "SOFR_change.head()"
   ]
  },
  {
   "cell_type": "markdown",
   "id": "4bba5cdb",
   "metadata": {},
   "source": [
    "Because the 10-year payer swap pay annually, focusing on 1Y to 10Y SOFR rate is enough. Furthermore, merge them into one dataframe."
   ]
  },
  {
   "cell_type": "code",
   "execution_count": 15,
   "id": "ac6a1a89",
   "metadata": {},
   "outputs": [],
   "source": [
    "Risk_Factor_Change = pd.concat([Stock_Change,SOFR_change.loc[:,\"1Y\":\"10Y\"]],axis = 1).sort_index()\n",
    "Risk_Factor_Change = Risk_Factor_Change.dropna(subset=['AAPL'])\n",
    "Risk_Factor_Change = Risk_Factor_Change.interpolate(method = \"linear\").reset_index(drop = True)"
   ]
  },
  {
   "cell_type": "code",
   "execution_count": 16,
   "id": "566e7d12",
   "metadata": {},
   "outputs": [
    {
     "data": {
      "text/html": [
       "<div>\n",
       "<style scoped>\n",
       "    .dataframe tbody tr th:only-of-type {\n",
       "        vertical-align: middle;\n",
       "    }\n",
       "\n",
       "    .dataframe tbody tr th {\n",
       "        vertical-align: top;\n",
       "    }\n",
       "\n",
       "    .dataframe thead th {\n",
       "        text-align: right;\n",
       "    }\n",
       "</style>\n",
       "<table border=\"1\" class=\"dataframe\">\n",
       "  <thead>\n",
       "    <tr style=\"text-align: right;\">\n",
       "      <th></th>\n",
       "      <th>AAPL</th>\n",
       "      <th>MSFT</th>\n",
       "      <th>F</th>\n",
       "      <th>BAC</th>\n",
       "      <th>1Y</th>\n",
       "      <th>2Y</th>\n",
       "      <th>3Y</th>\n",
       "      <th>4Y</th>\n",
       "      <th>5Y</th>\n",
       "      <th>6Y</th>\n",
       "      <th>7Y</th>\n",
       "      <th>8Y</th>\n",
       "      <th>9Y</th>\n",
       "      <th>10Y</th>\n",
       "    </tr>\n",
       "  </thead>\n",
       "  <tbody>\n",
       "    <tr>\n",
       "      <th>0</th>\n",
       "      <td>-0.017543</td>\n",
       "      <td>-0.017059</td>\n",
       "      <td>0.002244</td>\n",
       "      <td>0.004439</td>\n",
       "      <td>0.000521</td>\n",
       "      <td>0.000439</td>\n",
       "      <td>0.000342</td>\n",
       "      <td>0.000296</td>\n",
       "      <td>0.000225</td>\n",
       "      <td>0.000124</td>\n",
       "      <td>0.000029</td>\n",
       "      <td>-0.000043</td>\n",
       "      <td>-9.724439e-05</td>\n",
       "      <td>-0.000144</td>\n",
       "    </tr>\n",
       "    <tr>\n",
       "      <th>1</th>\n",
       "      <td>-0.037305</td>\n",
       "      <td>-0.035368</td>\n",
       "      <td>-0.025373</td>\n",
       "      <td>-0.003039</td>\n",
       "      <td>0.000234</td>\n",
       "      <td>0.000474</td>\n",
       "      <td>0.000404</td>\n",
       "      <td>0.000254</td>\n",
       "      <td>0.000153</td>\n",
       "      <td>0.000118</td>\n",
       "      <td>0.000109</td>\n",
       "      <td>0.000099</td>\n",
       "      <td>8.994989e-05</td>\n",
       "      <td>0.000091</td>\n",
       "    </tr>\n",
       "    <tr>\n",
       "      <th>2</th>\n",
       "      <td>-0.042405</td>\n",
       "      <td>-0.026579</td>\n",
       "      <td>0.015314</td>\n",
       "      <td>-0.005542</td>\n",
       "      <td>0.000690</td>\n",
       "      <td>0.001098</td>\n",
       "      <td>0.001085</td>\n",
       "      <td>0.000957</td>\n",
       "      <td>0.000832</td>\n",
       "      <td>0.000761</td>\n",
       "      <td>0.000704</td>\n",
       "      <td>0.000624</td>\n",
       "      <td>5.446595e-04</td>\n",
       "      <td>0.000495</td>\n",
       "    </tr>\n",
       "    <tr>\n",
       "      <th>3</th>\n",
       "      <td>-0.001947</td>\n",
       "      <td>0.033326</td>\n",
       "      <td>0.018854</td>\n",
       "      <td>0.025077</td>\n",
       "      <td>-0.000394</td>\n",
       "      <td>-0.000497</td>\n",
       "      <td>-0.000448</td>\n",
       "      <td>-0.000322</td>\n",
       "      <td>-0.000204</td>\n",
       "      <td>-0.000116</td>\n",
       "      <td>-0.000038</td>\n",
       "      <td>0.000045</td>\n",
       "      <td>1.258218e-04</td>\n",
       "      <td>0.000192</td>\n",
       "    </tr>\n",
       "    <tr>\n",
       "      <th>4</th>\n",
       "      <td>0.003902</td>\n",
       "      <td>0.029270</td>\n",
       "      <td>0.014064</td>\n",
       "      <td>0.005980</td>\n",
       "      <td>0.000429</td>\n",
       "      <td>0.000536</td>\n",
       "      <td>0.000499</td>\n",
       "      <td>0.000413</td>\n",
       "      <td>0.000332</td>\n",
       "      <td>0.000313</td>\n",
       "      <td>0.000328</td>\n",
       "      <td>0.000342</td>\n",
       "      <td>3.452884e-04</td>\n",
       "      <td>0.000339</td>\n",
       "    </tr>\n",
       "    <tr>\n",
       "      <th>...</th>\n",
       "      <td>...</td>\n",
       "      <td>...</td>\n",
       "      <td>...</td>\n",
       "      <td>...</td>\n",
       "      <td>...</td>\n",
       "      <td>...</td>\n",
       "      <td>...</td>\n",
       "      <td>...</td>\n",
       "      <td>...</td>\n",
       "      <td>...</td>\n",
       "      <td>...</td>\n",
       "      <td>...</td>\n",
       "      <td>...</td>\n",
       "      <td>...</td>\n",
       "    </tr>\n",
       "    <tr>\n",
       "      <th>245</th>\n",
       "      <td>0.002543</td>\n",
       "      <td>0.003674</td>\n",
       "      <td>-0.007840</td>\n",
       "      <td>-0.003911</td>\n",
       "      <td>0.000114</td>\n",
       "      <td>0.000371</td>\n",
       "      <td>0.000417</td>\n",
       "      <td>0.000343</td>\n",
       "      <td>0.000257</td>\n",
       "      <td>0.000165</td>\n",
       "      <td>0.000083</td>\n",
       "      <td>0.000032</td>\n",
       "      <td>2.757643e-07</td>\n",
       "      <td>-0.000027</td>\n",
       "    </tr>\n",
       "    <tr>\n",
       "      <th>246</th>\n",
       "      <td>-0.013492</td>\n",
       "      <td>0.030678</td>\n",
       "      <td>0.013169</td>\n",
       "      <td>0.003141</td>\n",
       "      <td>0.000150</td>\n",
       "      <td>0.000393</td>\n",
       "      <td>0.000596</td>\n",
       "      <td>0.000743</td>\n",
       "      <td>0.000894</td>\n",
       "      <td>0.000981</td>\n",
       "      <td>0.001022</td>\n",
       "      <td>0.001051</td>\n",
       "      <td>1.077486e-03</td>\n",
       "      <td>0.001100</td>\n",
       "    </tr>\n",
       "    <tr>\n",
       "      <th>247</th>\n",
       "      <td>-0.024606</td>\n",
       "      <td>-0.037514</td>\n",
       "      <td>-0.016464</td>\n",
       "      <td>0.022309</td>\n",
       "      <td>-0.000410</td>\n",
       "      <td>-0.000747</td>\n",
       "      <td>-0.000950</td>\n",
       "      <td>-0.001055</td>\n",
       "      <td>-0.001114</td>\n",
       "      <td>-0.001124</td>\n",
       "      <td>-0.001102</td>\n",
       "      <td>-0.001073</td>\n",
       "      <td>-1.046232e-03</td>\n",
       "      <td>-0.001028</td>\n",
       "    </tr>\n",
       "    <tr>\n",
       "      <th>248</th>\n",
       "      <td>0.007969</td>\n",
       "      <td>0.005856</td>\n",
       "      <td>-0.122467</td>\n",
       "      <td>-0.036371</td>\n",
       "      <td>-0.000129</td>\n",
       "      <td>-0.000286</td>\n",
       "      <td>-0.000361</td>\n",
       "      <td>-0.000339</td>\n",
       "      <td>-0.000324</td>\n",
       "      <td>-0.000257</td>\n",
       "      <td>-0.000166</td>\n",
       "      <td>-0.000093</td>\n",
       "      <td>-3.667796e-05</td>\n",
       "      <td>0.000011</td>\n",
       "    </tr>\n",
       "    <tr>\n",
       "      <th>249</th>\n",
       "      <td>0.012305</td>\n",
       "      <td>0.022740</td>\n",
       "      <td>-0.019076</td>\n",
       "      <td>0.020660</td>\n",
       "      <td>0.000130</td>\n",
       "      <td>0.000147</td>\n",
       "      <td>0.000145</td>\n",
       "      <td>0.000145</td>\n",
       "      <td>0.000166</td>\n",
       "      <td>0.000158</td>\n",
       "      <td>0.000137</td>\n",
       "      <td>0.000126</td>\n",
       "      <td>1.219693e-04</td>\n",
       "      <td>0.000115</td>\n",
       "    </tr>\n",
       "  </tbody>\n",
       "</table>\n",
       "<p>250 rows × 14 columns</p>\n",
       "</div>"
      ],
      "text/plain": [
       "         AAPL      MSFT         F       BAC        1Y        2Y        3Y  \\\n",
       "0   -0.017543 -0.017059  0.002244  0.004439  0.000521  0.000439  0.000342   \n",
       "1   -0.037305 -0.035368 -0.025373 -0.003039  0.000234  0.000474  0.000404   \n",
       "2   -0.042405 -0.026579  0.015314 -0.005542  0.000690  0.001098  0.001085   \n",
       "3   -0.001947  0.033326  0.018854  0.025077 -0.000394 -0.000497 -0.000448   \n",
       "4    0.003902  0.029270  0.014064  0.005980  0.000429  0.000536  0.000499   \n",
       "..        ...       ...       ...       ...       ...       ...       ...   \n",
       "245  0.002543  0.003674 -0.007840 -0.003911  0.000114  0.000371  0.000417   \n",
       "246 -0.013492  0.030678  0.013169  0.003141  0.000150  0.000393  0.000596   \n",
       "247 -0.024606 -0.037514 -0.016464  0.022309 -0.000410 -0.000747 -0.000950   \n",
       "248  0.007969  0.005856 -0.122467 -0.036371 -0.000129 -0.000286 -0.000361   \n",
       "249  0.012305  0.022740 -0.019076  0.020660  0.000130  0.000147  0.000145   \n",
       "\n",
       "           4Y        5Y        6Y        7Y        8Y            9Y       10Y  \n",
       "0    0.000296  0.000225  0.000124  0.000029 -0.000043 -9.724439e-05 -0.000144  \n",
       "1    0.000254  0.000153  0.000118  0.000109  0.000099  8.994989e-05  0.000091  \n",
       "2    0.000957  0.000832  0.000761  0.000704  0.000624  5.446595e-04  0.000495  \n",
       "3   -0.000322 -0.000204 -0.000116 -0.000038  0.000045  1.258218e-04  0.000192  \n",
       "4    0.000413  0.000332  0.000313  0.000328  0.000342  3.452884e-04  0.000339  \n",
       "..        ...       ...       ...       ...       ...           ...       ...  \n",
       "245  0.000343  0.000257  0.000165  0.000083  0.000032  2.757643e-07 -0.000027  \n",
       "246  0.000743  0.000894  0.000981  0.001022  0.001051  1.077486e-03  0.001100  \n",
       "247 -0.001055 -0.001114 -0.001124 -0.001102 -0.001073 -1.046232e-03 -0.001028  \n",
       "248 -0.000339 -0.000324 -0.000257 -0.000166 -0.000093 -3.667796e-05  0.000011  \n",
       "249  0.000145  0.000166  0.000158  0.000137  0.000126  1.219693e-04  0.000115  \n",
       "\n",
       "[250 rows x 14 columns]"
      ]
     },
     "execution_count": 16,
     "metadata": {},
     "output_type": "execute_result"
    }
   ],
   "source": [
    "Risk_Factor_Change"
   ]
  },
  {
   "cell_type": "code",
   "execution_count": 14,
   "id": "fa02ec9f",
   "metadata": {},
   "outputs": [],
   "source": [
    "Risk_Factor_Change.to_excel(\"change.xlsx\")"
   ]
  },
  {
   "cell_type": "markdown",
   "id": "5e90ee68",
   "metadata": {},
   "source": [
    "##  <a id = \"p2\"> 2.<font color = \"blue\">Monte Carlo VaR Model [(back to contents)](#top)"
   ]
  },
  {
   "cell_type": "markdown",
   "id": "c5364fc9",
   "metadata": {},
   "source": [
    "Calculate 1-day 95% VaR, which means h=1."
   ]
  },
  {
   "cell_type": "code",
   "execution_count": 18,
   "id": "14ba5f4c",
   "metadata": {},
   "outputs": [],
   "source": [
    "def calculate_PV(df_10y):\n",
    "    pv01_ls = []\n",
    "    T = 1\n",
    "    pv_fix = 0\n",
    "    for i in range(len(df_10y)):\n",
    "    \n",
    "        zero_rate = df_10y.iloc[i]\n",
    "        DF = np.exp(-zero_rate*T)\n",
    "        pv_fix = pv_fix + 0.042*DF\n",
    "        T = T+1\n",
    "    \n",
    "    pv_flt = 1-DF\n",
    "    pv = np.abs(100000000*pv_flt-100000000*pv_fix)\n",
    "    return pv\n",
    "\n",
    "def calculate_pv01(df_10y):\n",
    "    pv01_ls = []\n",
    "    pv_0 = calculate_PV(df_10y)\n",
    "    for j in range(len(df_10y)):\n",
    "        df_10y.iloc[j] = df_10y.iloc[j] + 0.0001\n",
    "        pv_1 = calculate_PV(df_10y)\n",
    "        pv01_ls.append(pv_1-pv_0)\n",
    "        df_10y.iloc[j] = df_10y.iloc[j] - 0.0001\n",
    "    return pv01_ls"
   ]
  },
  {
   "cell_type": "markdown",
   "id": "4c8ee16e",
   "metadata": {},
   "source": [
    "Calculate the weights of 10 risk factors of SOFR curve:"
   ]
  },
  {
   "cell_type": "code",
   "execution_count": 19,
   "id": "a6e01734",
   "metadata": {},
   "outputs": [
    {
     "data": {
      "text/plain": [
       "[398.60067670047283,\n",
       " 763.1796779595315,\n",
       " 1099.3001080676913,\n",
       " 1406.65535665676,\n",
       " 1685.4750986732543,\n",
       " 1937.1056086532772,\n",
       " 2163.2335943840444,\n",
       " 2365.3227567374706,\n",
       " 2544.7769064716995,\n",
       " 67059.5262562409]"
      ]
     },
     "execution_count": 19,
     "metadata": {},
     "output_type": "execute_result"
    }
   ],
   "source": [
    "RF_sofr_new1 = RF_sofr_new.reset_index(drop = True)\n",
    "pv01 = calculate_pv01(RF_sofr_new1.loc[250,\"1Y\":\"10Y\"])\n",
    "pv01"
   ]
  },
  {
   "cell_type": "code",
   "execution_count": 22,
   "id": "48f68ccb",
   "metadata": {},
   "outputs": [
    {
     "data": {
      "text/plain": [
       "[13354.513854651364, 339423748218.0995]"
      ]
     },
     "execution_count": 22,
     "metadata": {},
     "output_type": "execute_result"
    }
   ],
   "source": [
    "[mu_p,sigma2_p]"
   ]
  },
  {
   "cell_type": "code",
   "execution_count": null,
   "id": "15ae4160",
   "metadata": {},
   "outputs": [],
   "source": [
    "#a: weight\n",
    "mu = np.mean(Risk_Factor_Change, axis =0)\n",
    "mu_p = sum(mu*np.array(a))\n",
    "vriance_p = np.dot(np.dot(np.array(a), cov_mat),np.array(a).T)"
   ]
  },
  {
   "cell_type": "code",
   "execution_count": 21,
   "id": "475521a2",
   "metadata": {},
   "outputs": [],
   "source": [
    "mu = np.mean(Risk_Factor_Change, axis =0)\n",
    "a = [1000000]*4 + list(np.array(pv01)*1e4)\n",
    "mu_p = sum(mu*np.array(a))\n",
    "sigma2_p = np.dot(np.dot(np.array(a), np.cov(Risk_Factor_Change.T)),np.array(a).T)"
   ]
  },
  {
   "cell_type": "code",
   "execution_count": 23,
   "id": "9eb2b0d5",
   "metadata": {},
   "outputs": [
    {
     "data": {
      "text/plain": [
       "944938.6042235331"
      ]
     },
     "execution_count": 23,
     "metadata": {},
     "output_type": "execute_result"
    }
   ],
   "source": [
    "VaR = np.abs(mu_p + np.sqrt(sigma2_p)*norm.ppf(0.05,0,1))\n",
    "VaR"
   ]
  },
  {
   "cell_type": "markdown",
   "id": "a56d16fb",
   "metadata": {},
   "source": [
    "##  <a id = \"p3\"> 3.<font color = \"blue\">Parametric VaR Model [(back to contents)](#top)"
   ]
  },
  {
   "cell_type": "markdown",
   "id": "72d912de",
   "metadata": {},
   "source": [
    "### Method 1: Full revaluation"
   ]
  },
  {
   "cell_type": "code",
   "execution_count": 34,
   "id": "521d240e",
   "metadata": {},
   "outputs": [],
   "source": [
    "def calculate_portfolio_value(value_swap, price_stock):\n",
    "    return value_swap+sum(price_stock)"
   ]
  },
  {
   "cell_type": "markdown",
   "id": "217404f4",
   "metadata": {},
   "source": [
    "Simulate 10000 times."
   ]
  },
  {
   "cell_type": "code",
   "execution_count": 35,
   "id": "3a52e983",
   "metadata": {},
   "outputs": [],
   "source": [
    "samples = np.random.multivariate_normal(mu, np.cov(Risk_Factor_Change.T), int(1e4))\n",
    "L_list = []\n",
    "PnL_swap_df = []\n",
    "for m in range(int(1e4)):\n",
    "    #calculate swap value\n",
    "    sample_swap_change = samples[m][4:14]\n",
    "    new_rete = np.array(RF_sofr_new1.loc[250, \"1Y\":\"10Y\"])+sample_swap_change\n",
    "    PnL_swap = calculate_PV(pd.DataFrame(new_rete))\n",
    "    #calculate stock value\n",
    "    new_price = [1e6 * (1+x) for x in list(samples[m][0:4])]\n",
    "    #calculate porfolio value\n",
    "    portfolio_base = calculate_portfolio_value(calculate_PV(RF_sofr_new1.loc[250, \"1Y\":\"10Y\"]), [1e6]*4)\n",
    "    portfolio_new = calculate_portfolio_value(PnL_swap, new_price)\n",
    "    L_list.append((portfolio_new-portfolio_base)[0])"
   ]
  },
  {
   "cell_type": "code",
   "execution_count": 36,
   "id": "d835b9b7",
   "metadata": {},
   "outputs": [
    {
     "data": {
      "text/plain": [
       "-938441.884206314"
      ]
     },
     "execution_count": 36,
     "metadata": {},
     "output_type": "execute_result"
    }
   ],
   "source": [
    "L_list_MCFull = np.percentile(sorted(L_list),5)\n",
    "L_list_MCFull"
   ]
  },
  {
   "cell_type": "markdown",
   "id": "61dd3a04",
   "metadata": {},
   "source": [
    "### Method 2: Risk-Based"
   ]
  },
  {
   "cell_type": "code",
   "execution_count": 37,
   "id": "18350402",
   "metadata": {},
   "outputs": [],
   "source": [
    "L_ls = []\n",
    "for m in range(int(1e4)):\n",
    "    L = np.dot(np.array(a).T,list(samples[m]))\n",
    "    L_ls.append(L)"
   ]
  },
  {
   "cell_type": "code",
   "execution_count": 38,
   "id": "2f69f653",
   "metadata": {},
   "outputs": [
    {
     "data": {
      "text/plain": [
       "-932573.5088246102"
      ]
     },
     "execution_count": 38,
     "metadata": {},
     "output_type": "execute_result"
    }
   ],
   "source": [
    "L_list_MCRisk = np.percentile(sorted(L_ls),5)\n",
    "L_list_MCRisk"
   ]
  },
  {
   "cell_type": "markdown",
   "id": "1bd3ea3d",
   "metadata": {},
   "source": [
    "##  <a id = \"p4\"> 4.<font color = \"blue\">Historical VaR Model [(back to contents)](#top)"
   ]
  },
  {
   "cell_type": "markdown",
   "id": "94706bcb",
   "metadata": {},
   "source": [
    "### Method 1: Full Revaluation"
   ]
  },
  {
   "cell_type": "code",
   "execution_count": 39,
   "id": "a672896d",
   "metadata": {},
   "outputs": [],
   "source": [
    "L_ls1 = []\n",
    "for n in range(len(Risk_Factor_Change)):\n",
    "    new_rete = np.array(RF_sofr_new1.loc[250, \"1Y\":\"10Y\"])+np.array(Risk_Factor_Change.loc[n, \"1Y\":\"10Y\"])\n",
    "    PnL_swap = calculate_PV(pd.DataFrame(new_rete))\n",
    "    new_price = [1e6 * (1+x) for x in list(Risk_Factor_Change.loc[n, \"AAPL\":\"BAC\"])]\n",
    "    #calculate porfolio value\n",
    "    portfolio_base = calculate_portfolio_value(calculate_PV(RF_sofr_new1.loc[250, \"1Y\":\"10Y\"]), [1e6]*4)\n",
    "    portfolio_new = calculate_portfolio_value(PnL_swap, new_price)\n",
    "    L_ls1.append((portfolio_new-portfolio_base)[0])"
   ]
  },
  {
   "cell_type": "code",
   "execution_count": 40,
   "id": "8e4c9baa",
   "metadata": {},
   "outputs": [
    {
     "data": {
      "text/plain": [
       "-990511.3462687891"
      ]
     },
     "execution_count": 40,
     "metadata": {},
     "output_type": "execute_result"
    }
   ],
   "source": [
    "L_list_HisFull = np.percentile(sorted(L_ls1),5)\n",
    "L_list_HisFull"
   ]
  },
  {
   "cell_type": "markdown",
   "id": "06e109b5",
   "metadata": {},
   "source": [
    "### Method 2: Risk-Based"
   ]
  },
  {
   "cell_type": "code",
   "execution_count": 41,
   "id": "731cd9c5",
   "metadata": {},
   "outputs": [],
   "source": [
    "L_ls2 = []\n",
    "for n in range(len(Risk_Factor_Change)):\n",
    "    L = np.dot(np.array(a),Risk_Factor_Change.loc[n, :])\n",
    "    L_ls2.append(L)"
   ]
  },
  {
   "cell_type": "code",
   "execution_count": 42,
   "id": "347f8161",
   "metadata": {},
   "outputs": [
    {
     "data": {
      "text/plain": [
       "-984271.2321714654"
      ]
     },
     "execution_count": 42,
     "metadata": {},
     "output_type": "execute_result"
    }
   ],
   "source": [
    "L_list_HisRisk = np.percentile(sorted(L_ls2),5)\n",
    "L_list_HisRisk"
   ]
  },
  {
   "cell_type": "markdown",
   "id": "26466bd0",
   "metadata": {},
   "source": [
    "##  <a id = \"p5\"> 5.<font color = \"blue\">Conclusion [(back to contents)](#top)"
   ]
  },
  {
   "cell_type": "code",
   "execution_count": 43,
   "id": "ca61f293",
   "metadata": {},
   "outputs": [
    {
     "data": {
      "text/html": [
       "<div>\n",
       "<style scoped>\n",
       "    .dataframe tbody tr th:only-of-type {\n",
       "        vertical-align: middle;\n",
       "    }\n",
       "\n",
       "    .dataframe tbody tr th {\n",
       "        vertical-align: top;\n",
       "    }\n",
       "\n",
       "    .dataframe thead th {\n",
       "        text-align: right;\n",
       "    }\n",
       "</style>\n",
       "<table border=\"1\" class=\"dataframe\">\n",
       "  <thead>\n",
       "    <tr style=\"text-align: right;\">\n",
       "      <th></th>\n",
       "      <th>Calculate Method</th>\n",
       "      <th>VaR Value</th>\n",
       "    </tr>\n",
       "  </thead>\n",
       "  <tbody>\n",
       "    <tr>\n",
       "      <th>0</th>\n",
       "      <td>Parametric Model</td>\n",
       "      <td>944938.604224</td>\n",
       "    </tr>\n",
       "    <tr>\n",
       "      <th>1</th>\n",
       "      <td>Monte Carlo-Full Revaluation</td>\n",
       "      <td>938441.884206</td>\n",
       "    </tr>\n",
       "    <tr>\n",
       "      <th>2</th>\n",
       "      <td>Monte Carlo-Risk Based</td>\n",
       "      <td>932573.508825</td>\n",
       "    </tr>\n",
       "    <tr>\n",
       "      <th>3</th>\n",
       "      <td>Historical-Full Revaluation</td>\n",
       "      <td>990511.346269</td>\n",
       "    </tr>\n",
       "    <tr>\n",
       "      <th>4</th>\n",
       "      <td>Historical-Risk Based</td>\n",
       "      <td>984271.232171</td>\n",
       "    </tr>\n",
       "  </tbody>\n",
       "</table>\n",
       "</div>"
      ],
      "text/plain": [
       "               Calculate Method      VaR Value\n",
       "0              Parametric Model  944938.604224\n",
       "1  Monte Carlo-Full Revaluation  938441.884206\n",
       "2        Monte Carlo-Risk Based  932573.508825\n",
       "3   Historical-Full Revaluation  990511.346269\n",
       "4         Historical-Risk Based  984271.232171"
      ]
     },
     "execution_count": 43,
     "metadata": {},
     "output_type": "execute_result"
    }
   ],
   "source": [
    "result = pd.DataFrame({\"Calculate Method\": [\"Parametric Model\", \"Monte Carlo-Full Revaluation\", \"Monte Carlo-Risk Based\",\n",
    "                                            \"Historical-Full Revaluation\", \"Historical-Risk Based\"],\n",
    "                       \"VaR Value\": [VaR, abs(L_list_MCFull), abs(L_list_MCRisk), abs(L_list_HisFull), abs(L_list_HisRisk)]})\n",
    "result"
   ]
  },
  {
   "cell_type": "code",
   "execution_count": null,
   "id": "890ecf99",
   "metadata": {},
   "outputs": [],
   "source": []
  }
 ],
 "metadata": {
  "kernelspec": {
   "display_name": "Python 3 (ipykernel)",
   "language": "python",
   "name": "python3"
  },
  "language_info": {
   "codemirror_mode": {
    "name": "ipython",
    "version": 3
   },
   "file_extension": ".py",
   "mimetype": "text/x-python",
   "name": "python",
   "nbconvert_exporter": "python",
   "pygments_lexer": "ipython3",
   "version": "3.11.3"
  }
 },
 "nbformat": 4,
 "nbformat_minor": 5
}
